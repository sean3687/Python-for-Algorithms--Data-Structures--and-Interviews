{
 "cells": [
  {
   "cell_type": "code",
   "execution_count": null,
   "id": "fe543fc0",
   "metadata": {},
   "outputs": [],
   "source": [
    "def sum1(n):\n",
    "\t\tfinal_sum = 0\n",
    "\t\t\n",
    "\t\tfor x in xrange(n+1): # making for loop that start from 0 to n+1\n",
    "\t\t\t\tfinal_sum += x\n",
    "\t\treturn final_sum\n",
    "    "
   ]
  }
 ],
 "metadata": {
  "kernelspec": {
   "display_name": "Python 3 (ipykernel)",
   "language": "python",
   "name": "python3"
  },
  "language_info": {
   "codemirror_mode": {
    "name": "ipython",
    "version": 3
   },
   "file_extension": ".py",
   "mimetype": "text/x-python",
   "name": "python",
   "nbconvert_exporter": "python",
   "pygments_lexer": "ipython3",
   "version": "3.9.13"
  }
 },
 "nbformat": 4,
 "nbformat_minor": 5
}
