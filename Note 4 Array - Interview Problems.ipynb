{
 "cells": [
  {
   "cell_type": "markdown",
   "id": "f484bb99",
   "metadata": {},
   "source": [
    "**Anagram Check**"
   ]
  },
  {
   "cell_type": "code",
   "execution_count": 14,
   "id": "364a3112",
   "metadata": {},
   "outputs": [],
   "source": [
    "def anagram(s1,s2):\n",
    "    \n",
    "    s1 = s1.replace(' ','').lower()\n",
    "    s2 = s2.replace(' ','').lower()\n",
    "    \n",
    "    #Edge Case Check\n",
    "    if len(s1) != len(s2):\n",
    "        return False\n",
    "    \n",
    "    ##Dictionary\n",
    "    count = {} \n",
    "    \n",
    "    for letter in s1:\n",
    "        if letter in count:\n",
    "            count[letter] = count[letter] + 1\n",
    "        else:\n",
    "            count[letter] = 1\n",
    "    \n",
    "    #{'c': 1, 'l': 1, 'i': 1, 'n': 1, 't': 2, 'e': 1, 'a': 1, 's': 1, 'w': 1, 'o': 2, 'd': 1}\n",
    "    \n",
    "    for letter in s2:\n",
    "        if letter in count:\n",
    "            count[letter] = count[letter] - 1\n",
    "        else:\n",
    "            count[letter] = 1\n",
    "    \n",
    "    for k in count:\n",
    "        if count[k] != 0:\n",
    "            return False\n",
    "        else:\n",
    "            return True\n",
    "        \n",
    "        \n",
    "    "
   ]
  },
  {
   "cell_type": "code",
   "execution_count": 17,
   "id": "42b0eeb6",
   "metadata": {},
   "outputs": [
    {
     "data": {
      "text/plain": [
       "True"
      ]
     },
     "execution_count": 17,
     "metadata": {},
     "output_type": "execute_result"
    }
   ],
   "source": [
    "anagram('clint eastwood','old west action')"
   ]
  },
  {
   "cell_type": "markdown",
   "id": "814c9d31",
   "metadata": {},
   "source": [
    "**Array Pair Sum**"
   ]
  },
  {
   "cell_type": "markdown",
   "id": "b00a5cdd",
   "metadata": {},
   "source": [
    "The O(N) algorithm uses the set data structure. We perform a lienar pass from the beginning and for each element we check weather k- element is in the set of seen numbers. if it is, then we found a pair of sum k and add it to the output. If not, this element doesn't belong to a pair yet, and we add it to the set of seen elements.\n",
    "\n",
    "The algorithm is really simple once we figure out using a set. The complexity is O(N) because we do a single linear scan of the array, and for each "
   ]
  },
  {
   "cell_type": "code",
   "execution_count": 9,
   "id": "599de94d",
   "metadata": {},
   "outputs": [],
   "source": [
    "def pair_sum(arr,k):\n",
    "    \n",
    "    if len(arr)<2:\n",
    "        return \n",
    "    \n",
    "    ##Sets for tracking\n",
    "    seen = set()\n",
    "    output = set()\n",
    "    \n",
    "    for num in arr:\n",
    "        \n",
    "        target = k-num\n",
    "        \n",
    "        if target not in seen:\n",
    "            seen.add(num)\n",
    "            \n",
    "        else:\n",
    "            output.add( ((min(num,target)), max(num,target)) )\n",
    "    print('\\n'.join(map(str,list(output))))"
   ]
  },
  {
   "cell_type": "code",
   "execution_count": 10,
   "id": "e5330821",
   "metadata": {},
   "outputs": [
    {
     "name": "stdout",
     "output_type": "stream",
     "text": [
      "(1, 3)\n",
      "(2, 2)\n"
     ]
    }
   ],
   "source": [
    "pair_sum([1,3,2,2],4)"
   ]
  },
  {
   "cell_type": "code",
   "execution_count": 17,
   "id": "bf3dc367",
   "metadata": {},
   "outputs": [
    {
     "name": "stdout",
     "output_type": "stream",
     "text": [
      "{(1, 2), (1, 3), (2, 1)}\n"
     ]
    }
   ],
   "source": [
    "output = set()\n",
    "output.add((1,            2))\n",
    "output.add((1,3))\n",
    "output.add((2,1))\n",
    "output.add((1,2))\n",
    "\n",
    "print(output)"
   ]
  },
  {
   "cell_type": "code",
   "execution_count": null,
   "id": "19ca46fb",
   "metadata": {},
   "outputs": [],
   "source": []
  }
 ],
 "metadata": {
  "kernelspec": {
   "display_name": "Python 3 (ipykernel)",
   "language": "python",
   "name": "python3"
  },
  "language_info": {
   "codemirror_mode": {
    "name": "ipython",
    "version": 3
   },
   "file_extension": ".py",
   "mimetype": "text/x-python",
   "name": "python",
   "nbconvert_exporter": "python",
   "pygments_lexer": "ipython3",
   "version": "3.9.13"
  }
 },
 "nbformat": 4,
 "nbformat_minor": 5
}
