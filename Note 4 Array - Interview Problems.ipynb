{
 "cells": [
  {
   "cell_type": "markdown",
   "id": "f484bb99",
   "metadata": {},
   "source": [
    "**Anagram Check**"
   ]
  },
  {
   "cell_type": "code",
   "execution_count": 14,
   "id": "364a3112",
   "metadata": {},
   "outputs": [],
   "source": [
    "def anagram(s1,s2):\n",
    "    \n",
    "    s1 = s1.replace(' ','').lower()\n",
    "    s2 = s2.replace(' ','').lower()\n",
    "    \n",
    "    #Edge Case Check\n",
    "    if len(s1) != len(s2):\n",
    "        return False\n",
    "    \n",
    "    ##Dictionary\n",
    "    count = {} \n",
    "    \n",
    "    for letter in s1:\n",
    "        if letter in count:\n",
    "            count[letter] = count[letter] + 1\n",
    "        else:\n",
    "            count[letter] = 1\n",
    "    \n",
    "    #{'c': 1, 'l': 1, 'i': 1, 'n': 1, 't': 2, 'e': 1, 'a': 1, 's': 1, 'w': 1, 'o': 2, 'd': 1}\n",
    "    \n",
    "    for letter in s2:\n",
    "        if letter in count:\n",
    "            count[letter] = count[letter] - 1\n",
    "        else:\n",
    "            count[letter] = 1\n",
    "    \n",
    "    for k in count:\n",
    "        if count[k] != 0:\n",
    "            return False\n",
    "        else:\n",
    "            return True\n",
    "        \n",
    "        \n",
    "    "
   ]
  },
  {
   "cell_type": "code",
   "execution_count": 17,
   "id": "42b0eeb6",
   "metadata": {},
   "outputs": [
    {
     "data": {
      "text/plain": [
       "True"
      ]
     },
     "execution_count": 17,
     "metadata": {},
     "output_type": "execute_result"
    }
   ],
   "source": [
    "anagram('clint eastwood','old west action')"
   ]
  },
  {
   "cell_type": "markdown",
   "id": "814c9d31",
   "metadata": {},
   "source": [
    "**Array Pair Sum**"
   ]
  },
  {
   "cell_type": "markdown",
   "id": "b00a5cdd",
   "metadata": {},
   "source": [
    "The O(N) algorithm uses the set data structure. We perform a lienar pass from the beginning and for each element we check weather k- element is in the set of seen numbers. if it is, then we found a pair of sum k and add it to the output. If not, this element doesn't belong to a pair yet, and we add it to the set of seen elements.\n",
    "\n",
    "The algorithm is really simple once we figure out using a set. The complexity is O(N) because we do a single linear scan of the array, and for each "
   ]
  },
  {
   "cell_type": "code",
   "execution_count": 7,
   "id": "599de94d",
   "metadata": {},
   "outputs": [],
   "source": [
    "def pair_sum(arr,k):\n",
    "    \n",
    "    if len(arr)<2:\n",
    "        return \n",
    "    \n",
    "    ##Sets for tracking\n",
    "    seen = set()\n",
    "    output = set()\n",
    "    \n",
    "    for num in arr:\n",
    "        \n",
    "        target = k-num\n",
    "        \n",
    "        ##if you havent seen the number you add the search number to the set \n",
    "        if target not in seen:\n",
    "            seen.add(num)\n",
    "            \n",
    "        ##if you have seen the number, 두 넘버에서 min과 max를 찾아 넣는다. \n",
    "        else:\n",
    "            output.add( ((min(num,target)), max(num,target)) )\n",
    "    print('\\n'.join(map(str,list(output))))"
   ]
  },
  {
   "cell_type": "code",
   "execution_count": 9,
   "id": "e5330821",
   "metadata": {},
   "outputs": [
    {
     "name": "stdout",
     "output_type": "stream",
     "text": [
      "(2, 3)\n"
     ]
    }
   ],
   "source": [
    "pair_sum([1,3,2,2,2,3],5)"
   ]
  },
  {
   "cell_type": "code",
   "execution_count": 6,
   "id": "bf3dc367",
   "metadata": {},
   "outputs": [
    {
     "name": "stdout",
     "output_type": "stream",
     "text": [
      "{(1, 2), (1, 3), (2, 1)}\n"
     ]
    }
   ],
   "source": [
    "output = set()\n",
    "output.add((1,            2))\n",
    "output.add((1,3))\n",
    "output.add((2,1))\n",
    "output.add((1,2))\n",
    "\n",
    "print(output)"
   ]
  },
  {
   "cell_type": "markdown",
   "id": "66f40319",
   "metadata": {},
   "source": [
    "**Find the Missing Element**"
   ]
  },
  {
   "cell_type": "markdown",
   "id": "9c247998",
   "metadata": {},
   "source": [
    "The naive solution is go through every element in the second array and check whether it appears in the first array. Note that there may be duplicate elements in the arrays so we should pay special attention to it. The complexity of this approach is O(N^2), since we would need two for loops.\n",
    "\n",
    "A more efficient solution tis to sort the first array, so while checking whether an element in the first array appears in the second, we can do binary search(we'll learn about binary search in more detail in a future section). BUt we should still be careful about duplicate elements. The complexity is O(NlogN).\n",
    "\n",
    "If we don't want to deal with the special case of duplicate numbers, we can sort both arrays and iterate over them simultaneosly. Once two iterators have different values we can stop. The value of the first iterator is the missing element. This solution is also O(NlogN). Here is the solution for this approach:"
   ]
  },
  {
   "cell_type": "code",
   "execution_count": 18,
   "id": "bae80978",
   "metadata": {},
   "outputs": [],
   "source": [
    "def finder(arr1,arr2):\n",
    "    \n",
    "    dic = {}\n",
    "    seen = set()\n",
    "    \n",
    "    for number in arr1:\n",
    "        \n",
    "        if number not in dic :\n",
    "            dic[number] = 1\n",
    "            seen.add(number)\n",
    "        else:\n",
    "            dic[number] = dic[number] + 1\n",
    "    \n",
    "    print(dic)\n",
    "    for number in arr2:\n",
    "        \n",
    "        if number not in dic :\n",
    "            dic[number] = 1\n",
    "            seen.add(number)\n",
    "        else:\n",
    "            dic[number] = dic[number] - 1\n",
    "    \n",
    "    print(dic)\n",
    "    for k in seen:\n",
    "        if dic[k] != 0:\n",
    "            return k\n",
    "        "
   ]
  },
  {
   "cell_type": "code",
   "execution_count": 17,
   "id": "66db8e11",
   "metadata": {},
   "outputs": [
    {
     "name": "stdout",
     "output_type": "stream",
     "text": [
      "{1: 1, 2: 1, 3: 1, 4: 1, 5: 1, 6: 1, 7: 1}\n",
      "{1: 0, 2: 0, 3: 0, 4: 0, 5: 1, 6: 0, 7: 0}\n"
     ]
    },
    {
     "data": {
      "text/plain": [
       "5"
      ]
     },
     "execution_count": 17,
     "metadata": {},
     "output_type": "execute_result"
    }
   ],
   "source": [
    "arr1 = [1,2,3,4,5,6,7]\n",
    "arr2 = [3,7,2,1,4,6]\n",
    "finder(arr1,arr2)"
   ]
  },
  {
   "cell_type": "code",
   "execution_count": 19,
   "id": "40e400f9",
   "metadata": {},
   "outputs": [],
   "source": [
    "def finder(arr1, arr2):\n",
    "    arr1.sort()\n",
    "    arr2.sort()\n",
    "    \n",
    "    for num1, num2 in zip(arr1,arr2):\n",
    "        if num1 != num2:\n",
    "            return num1\n",
    "    return arr[-1]"
   ]
  },
  {
   "cell_type": "markdown",
   "id": "81858aaa",
   "metadata": {},
   "source": [
    "**Largest Continuous Sum**"
   ]
  },
  {
   "cell_type": "markdown",
   "id": "1b7419c7",
   "metadata": {},
   "source": [
    "if the array is all positive then the result is simply sum of all numbers. the negative numbers in the array will cause us to beed to begin checking sequences.\n",
    "\n",
    "The algorithm is we start summing up the number and store in a current sum variable after adding each element we check whether the current sum is larger than maximum sum encountered so far. If it is we udpate maximum sum. As long as the current sum is positive we keep adding the numbers. When the current sum becomes negative, we start with a new current sum. Because a negative current sum will only decrease the sum of a future sequence. Note that we don't reset the current sum to 0 because the array can contain all negative integers Then the result would be the largest negative number."
   ]
  },
  {
   "cell_type": "code",
   "execution_count": 55,
   "id": "6ad6731c",
   "metadata": {},
   "outputs": [],
   "source": [
    "def large_count_sum(arr):\n",
    "    max_number = arr[0]\n",
    "    sum = 0\n",
    "    for x in arr[1:]:\n",
    "        sum = sum + x\n",
    "        print(arr[0], sum)\n",
    "        max_number = max(max_number,sum)\n",
    "    \n",
    "    return max_number"
   ]
  },
  {
   "cell_type": "code",
   "execution_count": 56,
   "id": "4d61511e",
   "metadata": {},
   "outputs": [
    {
     "name": "stdout",
     "output_type": "stream",
     "text": [
      "1 2\n",
      "1 1\n",
      "1 4\n",
      "1 8\n",
      "1 18\n",
      "1 8\n",
      "1 7\n"
     ]
    },
    {
     "data": {
      "text/plain": [
       "18"
      ]
     },
     "execution_count": 56,
     "metadata": {},
     "output_type": "execute_result"
    }
   ],
   "source": [
    "large_count_sum([1,2,-1,3,4,10,-10,-1])"
   ]
  },
  {
   "cell_type": "markdown",
   "id": "ede82e7d",
   "metadata": {},
   "source": [
    "solution"
   ]
  },
  {
   "cell_type": "code",
   "execution_count": 16,
   "id": "17566b84",
   "metadata": {},
   "outputs": [],
   "source": [
    "def large_count_sum2(arr):\n",
    "    \n",
    "    if len(arr)==0:\n",
    "        return 0\n",
    "    \n",
    "    #curr sum which is start is arr[0], max_sum is arr[0] as well\n",
    "    max_sum = current_sum = arr[0]\n",
    "    \n",
    "    for num in arr[1:]:\n",
    "        print(arr[1:])\n",
    "        current_sum = max(current_sum + num,num)\n",
    "        \n",
    "        max_sum = max(current_sum,max_sum)\n",
    "        \n",
    "    return max_sum"
   ]
  },
  {
   "cell_type": "code",
   "execution_count": 57,
   "id": "af99e829",
   "metadata": {},
   "outputs": [
    {
     "name": "stdout",
     "output_type": "stream",
     "text": [
      "[2, -1, 3, 4, 10, -10, -1]\n",
      "[2, -1, 3, 4, 10, -10, -1]\n",
      "[2, -1, 3, 4, 10, -10, -1]\n",
      "[2, -1, 3, 4, 10, -10, -1]\n",
      "[2, -1, 3, 4, 10, -10, -1]\n",
      "[2, -1, 3, 4, 10, -10, -1]\n",
      "[2, -1, 3, 4, 10, -10, -1]\n"
     ]
    },
    {
     "data": {
      "text/plain": [
       "19"
      ]
     },
     "execution_count": 57,
     "metadata": {},
     "output_type": "execute_result"
    }
   ],
   "source": [
    "large_count_sum2([1,2,-1,3,4,10,-10,-1])"
   ]
  },
  {
   "cell_type": "code",
   "execution_count": null,
   "id": "0aa5c684",
   "metadata": {},
   "outputs": [],
   "source": []
  }
 ],
 "metadata": {
  "kernelspec": {
   "display_name": "Python 3 (ipykernel)",
   "language": "python",
   "name": "python3"
  },
  "language_info": {
   "codemirror_mode": {
    "name": "ipython",
    "version": 3
   },
   "file_extension": ".py",
   "mimetype": "text/x-python",
   "name": "python",
   "nbconvert_exporter": "python",
   "pygments_lexer": "ipython3",
   "version": "3.9.13"
  }
 },
 "nbformat": 4,
 "nbformat_minor": 5
}
