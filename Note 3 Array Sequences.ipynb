{
 "cells": [
  {
   "cell_type": "markdown",
   "id": "983e9ee1",
   "metadata": {},
   "source": [
    "**Deep copy shallow copy**"
   ]
  },
  {
   "cell_type": "code",
   "execution_count": 6,
   "id": "82469a18",
   "metadata": {},
   "outputs": [],
   "source": [
    "primes = [0,1,2,3,4,5,6,7,8,9]\n",
    "new = 15\n",
    "#this mean prime's [3,4,5]\n",
    "temp = primes[3:5] \n",
    "\n",
    "#temp is shallow copy since temp is pointing same element of primes' elements"
   ]
  },
  {
   "cell_type": "markdown",
   "id": "6ccbb08d",
   "metadata": {},
   "source": [
    "Shallow copy only copy the structure. \n",
    "In contrast, deep copy is copying entire object."
   ]
  },
  {
   "cell_type": "markdown",
   "id": "53dac15a",
   "metadata": {},
   "source": [
    "**Array vs Dynamic Array**"
   ]
  },
  {
   "cell_type": "code",
   "execution_count": 10,
   "id": "a9c0cdee",
   "metadata": {},
   "outputs": [
    {
     "name": "stdout",
     "output_type": "stream",
     "text": [
      "Length:   0; size in bytes:   56\n",
      "Length:   1; size in bytes:   88\n",
      "Length:   2; size in bytes:   88\n",
      "Length:   3; size in bytes:   88\n",
      "Length:   4; size in bytes:   88\n",
      "Length:   5; size in bytes:  120\n",
      "Length:   6; size in bytes:  120\n",
      "Length:   7; size in bytes:  120\n",
      "Length:   8; size in bytes:  120\n",
      "Length:   9; size in bytes:  184\n"
     ]
    }
   ],
   "source": [
    "import sys\n",
    "\n",
    "#set n\n",
    "n = 10\n",
    "\n",
    "data = []\n",
    "\n",
    "for i in range(n):\n",
    "    \n",
    "    #Number of elements\n",
    "    a = len(data)\n",
    "    #actual size in bytes\n",
    "    b = sys.getsizeof(data)\n",
    "    \n",
    "    print('Length: {0:3d}; size in bytes: {1:4d}'.format(a,b))\n",
    "    data.append(n)"
   ]
  },
  {
   "cell_type": "markdown",
   "id": "97e3cf88",
   "metadata": {},
   "source": [
    "array contain fixed size of array, dynamic array size can be change my adding or deleting element"
   ]
  },
  {
   "cell_type": "markdown",
   "id": "b65c525d",
   "metadata": {},
   "source": [
    "it grabs more memory but it does in chunck so that it doesn't need to contantly do it for every element that gets appended to it."
   ]
  },
  {
   "cell_type": "markdown",
   "id": "71f13f9a",
   "metadata": {},
   "source": [
    "**Dynamic Array Implementation**"
   ]
  },
  {
   "cell_type": "code",
   "execution_count": 14,
   "id": "5909509b",
   "metadata": {},
   "outputs": [],
   "source": [
    "class M(object):\n",
    "    \n",
    "    def public(self):\n",
    "        print('Use Tab to see me!')\n",
    "    \n",
    "    def _private(self):\n",
    "        print(\"You won't be able to Tab to see me!\")"
   ]
  },
  {
   "cell_type": "code",
   "execution_count": 15,
   "id": "a236336d",
   "metadata": {},
   "outputs": [],
   "source": [
    "m = M()"
   ]
  },
  {
   "cell_type": "code",
   "execution_count": 16,
   "id": "a5585288",
   "metadata": {},
   "outputs": [
    {
     "name": "stdout",
     "output_type": "stream",
     "text": [
      "You won't be able to Tab to see me!\n"
     ]
    }
   ],
   "source": [
    "m._private()"
   ]
  },
  {
   "cell_type": "code",
   "execution_count": 22,
   "id": "5bab8b11",
   "metadata": {},
   "outputs": [
    {
     "name": "stdout",
     "output_type": "stream",
     "text": [
      "Use Tab to see me!\n"
     ]
    }
   ],
   "source": [
    "m.public()"
   ]
  },
  {
   "cell_type": "code",
   "execution_count": 27,
   "id": "4639de75",
   "metadata": {},
   "outputs": [],
   "source": [
    "import ctypes\n",
    "\n",
    "class DynamicArray(object):\n",
    "    \n",
    "    def __init__(self):\n",
    "        \n",
    "        self.n = 0\n",
    "        self.capacity = 1\n",
    "        self.A = self.make_array(self.capacity)\n",
    "        \n",
    "    def __len__(self):\n",
    "        return self.n\n",
    "    \n",
    "    def __getitem__(self,k):\n",
    "        if not 0 <= k < self.n:\n",
    "            return IndexError('K is out of bounds!')\n",
    "        return self.A[k]\n",
    "    \n",
    "    def append(self,ele):\n",
    "        \n",
    "        if self.n == self.capacity:\n",
    "            self._resize(2*self.capacity) #2x if capacity isn't enough\n",
    "            \n",
    "        self.A[self.n] = ele\n",
    "        self.n += 1\n",
    "        \n",
    "    def _resize(self, new_cap):\n",
    "        \n",
    "        B = self.make_array(new_cap)\n",
    "        \n",
    "        for k in range(self.n):\n",
    "            B[k] = self.A[k]\n",
    "            \n",
    "        self.A = B\n",
    "        self.capacity = new_cap\n",
    "        \n",
    "    def make_array(self,new_cap):\n",
    "        \n",
    "        return (new_cap * ctypes.py_object)()"
   ]
  },
  {
   "cell_type": "code",
   "execution_count": 28,
   "id": "b09e62bf",
   "metadata": {},
   "outputs": [],
   "source": [
    "arr = DynamicArray()"
   ]
  },
  {
   "cell_type": "code",
   "execution_count": 29,
   "id": "672a214b",
   "metadata": {},
   "outputs": [],
   "source": [
    "arr.append(1)"
   ]
  },
  {
   "cell_type": "code",
   "execution_count": 30,
   "id": "aae5b154",
   "metadata": {},
   "outputs": [
    {
     "data": {
      "text/plain": [
       "1"
      ]
     },
     "execution_count": 30,
     "metadata": {},
     "output_type": "execute_result"
    }
   ],
   "source": [
    "len(arr)"
   ]
  },
  {
   "cell_type": "code",
   "execution_count": 31,
   "id": "e8255d1e",
   "metadata": {},
   "outputs": [],
   "source": [
    "arr.append(2)"
   ]
  },
  {
   "cell_type": "code",
   "execution_count": 32,
   "id": "529c4f26",
   "metadata": {},
   "outputs": [
    {
     "data": {
      "text/plain": [
       "2"
      ]
     },
     "execution_count": 32,
     "metadata": {},
     "output_type": "execute_result"
    }
   ],
   "source": [
    "len(arr)"
   ]
  },
  {
   "cell_type": "markdown",
   "id": "8ec6ba57",
   "metadata": {},
   "source": [
    "**Amortized Analysis**"
   ]
  },
  {
   "cell_type": "code",
   "execution_count": null,
   "id": "f671ce77",
   "metadata": {},
   "outputs": [],
   "source": []
  }
 ],
 "metadata": {
  "kernelspec": {
   "display_name": "Python 3 (ipykernel)",
   "language": "python",
   "name": "python3"
  },
  "language_info": {
   "codemirror_mode": {
    "name": "ipython",
    "version": 3
   },
   "file_extension": ".py",
   "mimetype": "text/x-python",
   "name": "python",
   "nbconvert_exporter": "python",
   "pygments_lexer": "ipython3",
   "version": "3.9.13"
  }
 },
 "nbformat": 4,
 "nbformat_minor": 5
}
