{
 "cells": [
  {
   "cell_type": "markdown",
   "id": "d3b29140",
   "metadata": {},
   "source": [
    "**Balanced Parentheses Check - Interview Problem**"
   ]
  },
  {
   "cell_type": "code",
   "execution_count": 54,
   "id": "b4ea7e9c",
   "metadata": {},
   "outputs": [],
   "source": [
    "def balancedCheck(s):\n",
    "    dic = {\"(\":\")\", \"[\":\"]\", \"{\":\"}\"}\n",
    "    #print(dic[\"(\"])\n",
    "    list = []\n",
    "    \n",
    "    if(len(s)%2>0):\n",
    "        return False\n",
    "    \n",
    "    \n",
    "    for parenth in s:\n",
    "        \n",
    "        if parenth in dic:\n",
    "            list.append(dic[parenth])\n",
    "        else:\n",
    "            if parenth != list.pop():\n",
    "                return False\n",
    "    \n",
    "    return True\n",
    "            \n",
    "    "
   ]
  },
  {
   "cell_type": "code",
   "execution_count": 55,
   "id": "84fc15d5",
   "metadata": {},
   "outputs": [
    {
     "data": {
      "text/plain": [
       "True"
      ]
     },
     "execution_count": 55,
     "metadata": {},
     "output_type": "execute_result"
    }
   ],
   "source": [
    "balancedCheck(\"()([])[[]]\")"
   ]
  },
  {
   "cell_type": "code",
   "execution_count": null,
   "id": "2ab1e57f",
   "metadata": {},
   "outputs": [],
   "source": []
  }
 ],
 "metadata": {
  "kernelspec": {
   "display_name": "Python 3 (ipykernel)",
   "language": "python",
   "name": "python3"
  },
  "language_info": {
   "codemirror_mode": {
    "name": "ipython",
    "version": 3
   },
   "file_extension": ".py",
   "mimetype": "text/x-python",
   "name": "python",
   "nbconvert_exporter": "python",
   "pygments_lexer": "ipython3",
   "version": "3.11.1"
  }
 },
 "nbformat": 4,
 "nbformat_minor": 5
}
