{
 "cells": [
  {
   "cell_type": "markdown",
   "id": "664460b6",
   "metadata": {},
   "source": [
    "**Stack**"
   ]
  },
  {
   "cell_type": "markdown",
   "id": "2333fcb6",
   "metadata": {},
   "source": [
    "LIFO = last in first out\n",
    "\n",
    "Stack() = create empty stack\n",
    "push() = adds a new item to the top of the stack\n",
    "pop() = remove the top item from the stack\n",
    "peek() = return top item from the stack but does not remove it.\n",
    "isEmpty() = tests to see whether the stack is empty\n",
    "size() = return number of item in stack\n",
    "\n"
   ]
  },
  {
   "cell_type": "markdown",
   "id": "d281a6c0",
   "metadata": {},
   "source": [
    "**Implementation of a Stack**"
   ]
  },
  {
   "cell_type": "code",
   "execution_count": 1,
   "id": "d9b8b83a",
   "metadata": {},
   "outputs": [],
   "source": [
    "class Stack(object):\n",
    "    \n",
    "    def _init_(self):\n",
    "        self.items = []\n",
    "    def isEmpty(self):\n",
    "        return self.items ==[]\n",
    "    def push(self,item):\n",
    "        self.items.append(item)\n",
    "    def pop(self):\n",
    "        return self.items.pop()\n",
    "    def peek(self):\n",
    "        return len(self.items)"
   ]
  },
  {
   "cell_type": "markdown",
   "id": "5e8a18a9",
   "metadata": {},
   "source": [
    "**Queue**"
   ]
  },
  {
   "cell_type": "markdown",
   "id": "11e522f9",
   "metadata": {},
   "source": [
    "FIFO, First in First out, Enqueue -> [back]-[ ]-[ ]-[ ]-[ ]-[front] -> Dequeue"
   ]
  },
  {
   "cell_type": "markdown",
   "id": "f48c276c",
   "metadata": {},
   "source": [
    "Queue() create a new queue\n",
    "Enqueue(item) \n",
    "Dequeue()\n",
    "IsEmpty()\n",
    "Size()"
   ]
  },
  {
   "cell_type": "code",
   "execution_count": 2,
   "id": "4d148dea",
   "metadata": {},
   "outputs": [],
   "source": [
    "class Deque(object):\n",
    "    \n",
    "    def _init_(self):\n",
    "        self.items = []\n",
    "        \n",
    "    def isEmpty(self):\n",
    "        return self.items ==[]\n",
    "    \n",
    "    def addFront(self,item):\n",
    "        self.items.append(item)\n",
    "        \n",
    "    def addRear(self,item):\n",
    "        self.items.insert(0,item)\n",
    "        \n",
    "    def removeFront(self):\n",
    "        return self.items.pop()\n",
    "    \n",
    "    def removeRear(self):\n",
    "        return self.items.pop(0)\n",
    "    \n",
    "    def size(self):\n",
    "        return len(self)"
   ]
  },
  {
   "cell_type": "code",
   "execution_count": null,
   "id": "04fca0f8",
   "metadata": {},
   "outputs": [],
   "source": []
  }
 ],
 "metadata": {
  "kernelspec": {
   "display_name": "Python 3 (ipykernel)",
   "language": "python",
   "name": "python3"
  },
  "language_info": {
   "codemirror_mode": {
    "name": "ipython",
    "version": 3
   },
   "file_extension": ".py",
   "mimetype": "text/x-python",
   "name": "python",
   "nbconvert_exporter": "python",
   "pygments_lexer": "ipython3",
   "version": "3.9.13"
  }
 },
 "nbformat": 4,
 "nbformat_minor": 5
}
