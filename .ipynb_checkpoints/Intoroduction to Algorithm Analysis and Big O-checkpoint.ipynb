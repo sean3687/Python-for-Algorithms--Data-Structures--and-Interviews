{
 "cells": [
  {
   "cell_type": "code",
   "execution_count": 4,
   "id": "ec387d3d",
   "metadata": {},
   "outputs": [],
   "source": [
    "def sum1(n):\n",
    "\t\tfinal_sum = 0\n",
    "\t\t\n",
    "\t\tfor x in range(n+1): \n",
    "\t\t\t\tfinal_sum += x\n",
    "\t\treturn final_sum\n",
    "    "
   ]
  },
  {
   "cell_type": "code",
   "execution_count": 5,
   "id": "c5e8a918",
   "metadata": {},
   "outputs": [
    {
     "data": {
      "text/plain": [
       "55"
      ]
     },
     "execution_count": 5,
     "metadata": {},
     "output_type": "execute_result"
    }
   ],
   "source": [
    "sum1(10)"
   ]
  },
  {
   "cell_type": "code",
   "execution_count": 6,
   "id": "c7f71906",
   "metadata": {},
   "outputs": [],
   "source": [
    "def sum2(n):\n",
    "    return (n*(n+1))/2"
   ]
  },
  {
   "cell_type": "code",
   "execution_count": 7,
   "id": "4d28b18a",
   "metadata": {},
   "outputs": [
    {
     "data": {
      "text/plain": [
       "55.0"
      ]
     },
     "execution_count": 7,
     "metadata": {},
     "output_type": "execute_result"
    }
   ],
   "source": [
    "sum2(10)"
   ]
  },
  {
   "cell_type": "markdown",
   "id": "d3a4af4d",
   "metadata": {},
   "source": [
    "Both Functions are same but Big O is different"
   ]
  },
  {
   "cell_type": "markdown",
   "id": "5781f4eb",
   "metadata": {},
   "source": [
    "Let's compare the test with %timeit"
   ]
  },
  {
   "cell_type": "code",
   "execution_count": 8,
   "id": "5adb4a07",
   "metadata": {},
   "outputs": [
    {
     "name": "stdout",
     "output_type": "stream",
     "text": [
      "3.72 µs ± 25.3 ns per loop (mean ± std. dev. of 7 runs, 100000 loops each)\n"
     ]
    }
   ],
   "source": [
    "%timeit sum1(100)"
   ]
  },
  {
   "cell_type": "code",
   "execution_count": 9,
   "id": "ecb01a63",
   "metadata": {},
   "outputs": [
    {
     "name": "stdout",
     "output_type": "stream",
     "text": [
      "104 ns ± 1.02 ns per loop (mean ± std. dev. of 7 runs, 10000000 loops each)\n"
     ]
    }
   ],
   "source": [
    "%timeit sum2(100)"
   ]
  },
  {
   "cell_type": "markdown",
   "id": "6f228900",
   "metadata": {},
   "source": [
    "**Big-O notation**"
   ]
  },
  {
   "cell_type": "markdown",
   "id": "34302ba3",
   "metadata": {},
   "source": [
    "describe how quickly runtime will grow relative to the input as the input get arbitrarily large"
   ]
  },
  {
   "cell_type": "markdown",
   "id": "08e2056f",
   "metadata": {},
   "source": [
    "**Matplotlib.pyplot as plt**"
   ]
  },
  {
   "cell_type": "code",
   "execution_count": 14,
   "id": "65dd823c",
   "metadata": {},
   "outputs": [
    {
     "data": {
      "text/plain": [
       "(0.0, 50.0)"
      ]
     },
     "execution_count": 14,
     "metadata": {},
     "output_type": "execute_result"
    },
    {
     "data": {
      "image/png": "[encoded data removed]",
      "text/plain": [
       "<Figure size 1200x1000 with 1 Axes>"
      ]
     },
     "metadata": {},
     "output_type": "display_data"
    }
   ],
   "source": [
    "from math import log\n",
    "import numpy as np\n",
    "import matplotlib.pyplot as plt\n",
    "%matplotlib inline\n",
    "plt.style.use('bmh')\n",
    "\n",
    "#Set up runtime comparisons\n",
    "n= np.linspace(1,10,1000)\n",
    "labels = ['Constant', 'Logarithmic','Linear','Log Linear','Quadratic','Cubic','Exponential']\n",
    "big_o = [np.ones(n.shape)]\n",
    "\n",
    "#plot Setup\n",
    "plt.figure(figsize=(12,10))\n",
    "plt.ylim(0,50)"
   ]
  },
  {
   "cell_type": "markdown",
   "id": "d8689ecc",
   "metadata": {},
   "source": [
    "**Big O Example**"
   ]
  },
  {
   "cell_type": "code",
   "execution_count": 26,
   "id": "b05519e9",
   "metadata": {},
   "outputs": [],
   "source": [
    "##O(1)\n",
    "def func_constant(values):\n",
    "    print(values[0])"
   ]
  },
  {
   "cell_type": "code",
   "execution_count": 27,
   "id": "14374d36",
   "metadata": {},
   "outputs": [
    {
     "name": "stdout",
     "output_type": "stream",
     "text": [
      "1\n"
     ]
    }
   ],
   "source": [
    "lst = [1,2,3,4,5,6]\n",
    "func_constant(lst)\n",
    "#regardless of list size always take same time."
   ]
  },
  {
   "cell_type": "code",
   "execution_count": 28,
   "id": "bd757107",
   "metadata": {},
   "outputs": [
    {
     "ename": "SyntaxError",
     "evalue": "Missing parentheses in call to 'print'. Did you mean print(val)? (1779970753.py, line 4)",
     "output_type": "error",
     "traceback": [
      "\u001b[0;36m  File \u001b[0;32m\"/var/folders/dd/5tdv3r9j31g2lkf_q73f0fxr0000gn/T/ipykernel_56616/1779970753.py\"\u001b[0;36m, line \u001b[0;32m4\u001b[0m\n\u001b[0;31m    print val\u001b[0m\n\u001b[0m          ^\u001b[0m\n\u001b[0;31mSyntaxError\u001b[0m\u001b[0;31m:\u001b[0m Missing parentheses in call to 'print'. Did you mean print(val)?\n"
     ]
    }
   ],
   "source": [
    "##O(n)\n",
    "def func_lin(lst):\n",
    "    for val in lst:\n",
    "        print(val)"
   ]
  },
  {
   "cell_type": "code",
   "execution_count": null,
   "id": "9100f8c5",
   "metadata": {},
   "outputs": [],
   "source": []
  }
 ],
 "metadata": {
  "kernelspec": {
   "display_name": "Python 3 (ipykernel)",
   "language": "python",
   "name": "python3"
  },
  "language_info": {
   "codemirror_mode": {
    "name": "ipython",
    "version": 3
   },
   "file_extension": ".py",
   "mimetype": "text/x-python",
   "name": "python",
   "nbconvert_exporter": "python",
   "pygments_lexer": "ipython3",
   "version": "3.9.13"
  }
 },
 "nbformat": 4,
 "nbformat_minor": 5
}
