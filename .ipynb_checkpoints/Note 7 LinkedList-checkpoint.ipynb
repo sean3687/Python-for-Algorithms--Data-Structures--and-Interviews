{
 "cells": [
  {
   "cell_type": "markdown",
   "id": "b4f7079f",
   "metadata": {},
   "source": [
    "**Implement Singly Linked List**"
   ]
  },
  {
   "cell_type": "code",
   "execution_count": 5,
   "id": "58eb78b9",
   "metadata": {},
   "outputs": [],
   "source": [
    "class Node(object):\n",
    "    \n",
    "    def __init__(self,value):\n",
    "        \n",
    "        self.value = value\n",
    "        self.nextnode = Node"
   ]
  },
  {
   "cell_type": "code",
   "execution_count": 6,
   "id": "7ff6ede1",
   "metadata": {},
   "outputs": [],
   "source": [
    "a = Node(1)\n",
    "b = Node(2)\n",
    "c = Node(3)"
   ]
  },
  {
   "cell_type": "code",
   "execution_count": 7,
   "id": "6ba541fd",
   "metadata": {},
   "outputs": [],
   "source": [
    "a.nextnode = b\n",
    "b.nextnode = c\n"
   ]
  },
  {
   "cell_type": "code",
   "execution_count": 8,
   "id": "c8f0ac5e",
   "metadata": {},
   "outputs": [
    {
     "data": {
      "text/plain": [
       "1"
      ]
     },
     "execution_count": 8,
     "metadata": {},
     "output_type": "execute_result"
    }
   ],
   "source": [
    "a.value"
   ]
  },
  {
   "cell_type": "code",
   "execution_count": 9,
   "id": "07b8bda4",
   "metadata": {},
   "outputs": [
    {
     "data": {
      "text/plain": [
       "2"
      ]
     },
     "execution_count": 9,
     "metadata": {},
     "output_type": "execute_result"
    }
   ],
   "source": [
    "a.nextnode.value"
   ]
  },
  {
   "cell_type": "markdown",
   "id": "454cf35b",
   "metadata": {},
   "source": [
    "**Pros**"
   ]
  },
  {
   "cell_type": "markdown",
   "id": "b0dbc71d",
   "metadata": {},
   "source": [
    "Linked Lists have constant time insertions and deletion in any position, in comparison, arrays require O(n)time to do the same thing..\n",
    "\n",
    "Linked list can continue to expand without having to specify their size ahead of time(remember our lectures on array sizing from the array sequence section of the course!)"
   ]
  },
  {
   "cell_type": "markdown",
   "id": "9f6e1100",
   "metadata": {},
   "source": [
    "**Cons**"
   ]
  },
  {
   "cell_type": "markdown",
   "id": "cf1ee5e4",
   "metadata": {},
   "source": [
    "To access an element in a linedlist, you need to take O(k) time to go from the head of the list to the kth element. In contrast, arrays have constant time operation to access elements in an array\n"
   ]
  },
  {
   "cell_type": "markdown",
   "id": "2eb6f891",
   "metadata": {},
   "source": [
    "**Implement Doubly Linked List**"
   ]
  },
  {
   "cell_type": "code",
   "execution_count": 12,
   "id": "975d2dda",
   "metadata": {},
   "outputs": [],
   "source": [
    "class DoublyLinkedListNode(object):\n",
    "    \n",
    "    def __init__(self,value):\n",
    "        \n",
    "        self.value = value\n",
    "        self.next_node = None\n",
    "        self.prev_node = None"
   ]
  },
  {
   "cell_type": "code",
   "execution_count": 14,
   "id": "f8bc7ce2",
   "metadata": {},
   "outputs": [],
   "source": [
    "a = DoublyLinkedListNode(1)\n",
    "b = DoublyLinkedListNode(2)\n",
    "c = DoublyLinkedListNode(3)"
   ]
  },
  {
   "cell_type": "code",
   "execution_count": 15,
   "id": "0d51d9ba",
   "metadata": {},
   "outputs": [],
   "source": [
    "a.next_node = b\n",
    "b.prev_node = a"
   ]
  },
  {
   "cell_type": "code",
   "execution_count": 16,
   "id": "55f2890b",
   "metadata": {},
   "outputs": [],
   "source": [
    "b.next_node = c\n",
    "c.prev_node = b"
   ]
  },
  {
   "cell_type": "code",
   "execution_count": null,
   "id": "2ee8f27a",
   "metadata": {},
   "outputs": [],
   "source": []
  }
 ],
 "metadata": {
  "kernelspec": {
   "display_name": "Python 3 (ipykernel)",
   "language": "python",
   "name": "python3"
  },
  "language_info": {
   "codemirror_mode": {
    "name": "ipython",
    "version": 3
   },
   "file_extension": ".py",
   "mimetype": "text/x-python",
   "name": "python",
   "nbconvert_exporter": "python",
   "pygments_lexer": "ipython3",
   "version": "3.11.1"
  }
 },
 "nbformat": 4,
 "nbformat_minor": 5
}
