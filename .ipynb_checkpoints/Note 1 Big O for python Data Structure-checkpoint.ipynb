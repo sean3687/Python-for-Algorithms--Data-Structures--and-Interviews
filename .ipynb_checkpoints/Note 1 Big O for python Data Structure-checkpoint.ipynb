{
 "cells": [
  {
   "cell_type": "markdown",
   "id": "95bc7ee2",
   "metadata": {},
   "source": [
    "***List***"
   ]
  },
  {
   "cell_type": "code",
   "execution_count": null,
   "id": "ba6bad10",
   "metadata": {},
   "outputs": [],
   "source": [
    "def method1():\n",
    "    l = []\n",
    "    for n in range(10000):\n",
    "        l = l + [n]\n",
    "\n",
    "def method2():\n",
    "    l = []\n",
    "    for n in range(10000):\n",
    "        l.append(n)\n",
    "\n",
    "def method3():\n",
    "    l = [n for n in range(10000)]\n",
    "\n",
    "def method4():\n",
    "    l = range(10000)\n",
    "    "
   ]
  },
  {
   "cell_type": "code",
   "execution_count": 5,
   "id": "c15520a1",
   "metadata": {},
   "outputs": [
    {
     "name": "stdout",
     "output_type": "stream",
     "text": [
      "103 ms ± 3.73 ms per loop (mean ± std. dev. of 7 runs, 10 loops each)\n",
      "510 µs ± 2.01 µs per loop (mean ± std. dev. of 7 runs, 1000 loops each)\n",
      "301 µs ± 11.1 µs per loop (mean ± std. dev. of 7 runs, 1000 loops each)\n",
      "195 ns ± 1.67 ns per loop (mean ± std. dev. of 7 runs, 10000000 loops each)\n"
     ]
    }
   ],
   "source": [
    "%timeit method1()\n",
    "%timeit method2()\n",
    "%timeit method3()\n",
    "%timeit method4()"
   ]
  },
  {
   "cell_type": "markdown",
   "id": "e8b237d3",
   "metadata": {},
   "source": [
    "we can clearly see that the most effective method is the built-in range function in python, Mehtod 4 is efficient"
   ]
  },
  {
   "cell_type": "markdown",
   "id": "1dc9f90b",
   "metadata": {},
   "source": [
    "| Operation | Big-O Efficiency |\n",
    "| --- | --- |\n",
    "| index[] | 1 |\n",
    "| index assignemnt | 1 |\n",
    "| append() | 1 |\n",
    "| pop() | 1 |\n",
    "| pop(i) | n |\n",
    "| insert(i,item)| n |\n",
    "| del operator | n |\n",
    "| iteration | n |\n",
    "| contains| n |\n",
    "| get slice[x:y] | n |\n",
    "| del slice | n |\n",
    "| set slice | n+k |\n",
    "| reverse | n |\n",
    "| concatenate | k |\n",
    "| sort | n log n |\n",
    "| multiply | nk |"
   ]
  },
  {
   "cell_type": "markdown",
   "id": "c0bde691",
   "metadata": {},
   "source": [
    "**Dictionaries**"
   ]
  },
  {
   "cell_type": "code",
   "execution_count": 6,
   "id": "49de3259",
   "metadata": {},
   "outputs": [],
   "source": [
    "d = {'k1':1,'k2':2}"
   ]
  },
  {
   "cell_type": "code",
   "execution_count": 7,
   "id": "46c3475d",
   "metadata": {},
   "outputs": [
    {
     "ename": "TypeError",
     "evalue": "'set' object is not subscriptable",
     "output_type": "error",
     "traceback": [
      "\u001b[0;31m---------------------------------------------------------------------------\u001b[0m",
      "\u001b[0;31mTypeError\u001b[0m                                 Traceback (most recent call last)",
      "\u001b[0;32m/var/folders/dd/5tdv3r9j31g2lkf_q73f0fxr0000gn/T/ipykernel_29045/1875150973.py\u001b[0m in \u001b[0;36m<module>\u001b[0;34m\u001b[0m\n\u001b[0;32m----> 1\u001b[0;31m \u001b[0md\u001b[0m\u001b[0;34m[\u001b[0m\u001b[0;34m'k1'\u001b[0m\u001b[0;34m]\u001b[0m\u001b[0;34m\u001b[0m\u001b[0;34m\u001b[0m\u001b[0m\n\u001b[0m",
      "\u001b[0;31mTypeError\u001b[0m: 'set' object is not subscriptable"
     ]
    }
   ],
   "source": [
    "d['k1']"
   ]
  },
  {
   "cell_type": "code",
   "execution_count": null,
   "id": "c2b33903",
   "metadata": {},
   "outputs": [],
   "source": []
  }
 ],
 "metadata": {
  "kernelspec": {
   "display_name": "Python 3 (ipykernel)",
   "language": "python",
   "name": "python3"
  },
  "language_info": {
   "codemirror_mode": {
    "name": "ipython",
    "version": 3
   },
   "file_extension": ".py",
   "mimetype": "text/x-python",
   "name": "python",
   "nbconvert_exporter": "python",
   "pygments_lexer": "ipython3",
   "version": "3.9.13"
  }
 },
 "nbformat": 4,
 "nbformat_minor": 5
}
