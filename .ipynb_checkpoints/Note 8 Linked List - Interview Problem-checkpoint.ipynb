{
 "cells": [
  {
   "cell_type": "markdown",
   "id": "4c6d1a37",
   "metadata": {},
   "source": [
    "**Singly Linked List Test**"
   ]
  },
  {
   "cell_type": "code",
   "execution_count": 1,
   "id": "55131a8c",
   "metadata": {},
   "outputs": [],
   "source": [
    "class Node(object):\n",
    "    \n",
    "    def __init__(self,value):\n",
    "        \n",
    "        self.value = value\n",
    "        self.nextnode = None"
   ]
  },
  {
   "cell_type": "code",
   "execution_count": 6,
   "id": "4ca9ade4",
   "metadata": {},
   "outputs": [],
   "source": [
    "def cycle_check(node):\n",
    "    \n",
    "    marker1 = node\n",
    "    marker2 = node\n",
    "\n",
    "    while marker1 != None and marker2.nextnode != None:\n",
    "\n",
    "        marker1 = marker1.nextnode\n",
    "        marker2 = marker2.nextnode.nextnode\n",
    "\n",
    "        if marker2 == marker1:\n",
    "            return True\n",
    "\n",
    "        return False"
   ]
  },
  {
   "cell_type": "markdown",
   "id": "605e98b1",
   "metadata": {},
   "source": [
    "**Reversed Linked List**"
   ]
  },
  {
   "cell_type": "code",
   "execution_count": 7,
   "id": "0c49aac9",
   "metadata": {},
   "outputs": [],
   "source": [
    "def reverse(head):\n",
    "    \n",
    "    current = head\n",
    "    nextnode = None\n",
    "    previous = None\n",
    "    \n",
    "    while nextNode != None:\n",
    "        \n",
    "        current.nextnode = previous\n",
    "        previous = current\n",
    "        current = nextnode\n",
    "        nextnode.nextnode = current\n",
    "        nextnode = current.nextnode\n",
    "    \n",
    "    "
   ]
  },
  {
   "cell_type": "code",
   "execution_count": 8,
   "id": "cbb3f360",
   "metadata": {},
   "outputs": [],
   "source": [
    "def reverse(head):\n",
    "    \n",
    "    current = head\n",
    "    previous = None\n",
    "    nextnode = None\n",
    "    \n",
    "    while current:\n",
    "        \n",
    "#       prev -> curr -> next\n",
    "#       prev <- curr <- next\n",
    "#               prev\n",
    "#                       curr\n",
    "        #       prev -> curr -> next\n",
    "        #       prev <- curr <- next\n",
    "        #               prev\n",
    "        #                       curr\n",
    "\n",
    "        \n",
    "        #next 설정하기 // prev -> curr next\n",
    "        nextnode = current.nextnode\n",
    "        \n",
    "        #curr -> prev // prev <- curr  next\n",
    "        current.nextnode = previous\n",
    "        \n",
    "        #prev = curr // curr = prev\n",
    "        previous = current\n",
    "        \n",
    "        #curr = next // curr = next\n",
    "        current = nextnode\n",
    "        \n",
    "    return previous"
   ]
  },
  {
   "cell_type": "code",
   "execution_count": null,
   "id": "8795563f",
   "metadata": {},
   "outputs": [],
   "source": []
  }
 ],
 "metadata": {
  "kernelspec": {
   "display_name": "Python 3 (ipykernel)",
   "language": "python",
   "name": "python3"
  },
  "language_info": {
   "codemirror_mode": {
    "name": "ipython",
    "version": 3
   },
   "file_extension": ".py",
   "mimetype": "text/x-python",
   "name": "python",
   "nbconvert_exporter": "python",
   "pygments_lexer": "ipython3",
   "version": "3.11.1"
  }
 },
 "nbformat": 4,
 "nbformat_minor": 5
}
