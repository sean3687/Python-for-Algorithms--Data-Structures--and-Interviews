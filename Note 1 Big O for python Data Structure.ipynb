{
 "cells": [
  {
   "cell_type": "markdown",
   "id": "106c0148",
   "metadata": {},
   "source": [
    "***List***"
   ]
  },
  {
   "cell_type": "code",
   "execution_count": null,
   "id": "2992da75",
   "metadata": {},
   "outputs": [],
   "source": [
    "def method1():\n",
    "    l = []\n",
    "    for n in range(10000):\n",
    "        l = l + [n]\n",
    "\n",
    "def method2():\n",
    "    l = []\n",
    "    for n in range(10000):\n",
    "        l.append(n)\n",
    "\n",
    "def method3():\n",
    "    l = [n for n in range(10000)]\n",
    "\n",
    "def method4():\n",
    "    l = range(10000)\n",
    "    "
   ]
  },
  {
   "cell_type": "code",
   "execution_count": 5,
   "id": "cd96b78e",
   "metadata": {},
   "outputs": [
    {
     "name": "stdout",
     "output_type": "stream",
     "text": [
      "103 ms ± 3.73 ms per loop (mean ± std. dev. of 7 runs, 10 loops each)\n",
      "510 µs ± 2.01 µs per loop (mean ± std. dev. of 7 runs, 1000 loops each)\n",
      "301 µs ± 11.1 µs per loop (mean ± std. dev. of 7 runs, 1000 loops each)\n",
      "195 ns ± 1.67 ns per loop (mean ± std. dev. of 7 runs, 10000000 loops each)\n"
     ]
    }
   ],
   "source": [
    "%timeit method1()\n",
    "%timeit method2()\n",
    "%timeit method3()\n",
    "%timeit method4()"
   ]
  },
  {
   "cell_type": "markdown",
   "id": "3a8b919c",
   "metadata": {},
   "source": [
    "we can clearly see that the most effective method is the built-in range function in python, Mehtod 4 is efficient"
   ]
  },
  {
   "cell_type": "markdown",
   "id": "dfe68169",
   "metadata": {},
   "source": [
    "| Operation | Big-O Efficiency |\n",
    "| --- | --- |\n",
    "| index[] | 1 |\n",
    "| index assignemnt | 1 |\n",
    "| append() | 1 |\n",
    "| pop() | 1 |\n",
    "| pop(i) | n |\n",
    "| insert(i,item)| n |\n",
    "| del operator | n |\n",
    "| iteration | n |\n",
    "| contains| n |\n",
    "| get slice[x:y] | n |\n",
    "| del slice | n |\n",
    "| set slice | n+k |\n",
    "| reverse | n |\n",
    "| concatenate | k |\n",
    "| sort | n log n |\n",
    "| multiply | nk |"
   ]
  },
  {
   "cell_type": "markdown",
   "id": "acf8a03f",
   "metadata": {},
   "source": [
    "**Dictionaries**"
   ]
  },
  {
   "cell_type": "code",
   "execution_count": 8,
   "id": "00a9094c",
   "metadata": {},
   "outputs": [],
   "source": [
    "d = {'k1':1,'k2':2}"
   ]
  },
  {
   "cell_type": "code",
   "execution_count": 9,
   "id": "991b681b",
   "metadata": {},
   "outputs": [
    {
     "data": {
      "text/plain": [
       "1"
      ]
     },
     "execution_count": 9,
     "metadata": {},
     "output_type": "execute_result"
    }
   ],
   "source": [
    "d['k1']"
   ]
  },
  {
   "cell_type": "markdown",
   "id": "e8d6b95c",
   "metadata": {},
   "source": [
    "| Operation | Big-O Efficiency |\n",
    "| --- | --- |\n",
    "| copy | n |\n",
    "| get item | 1 |\n",
    "| set item | 1 |\n",
    "| delete item | 1 |\n",
    "| contains(in) | 1 |\n",
    "| iteration | n |"
   ]
  },
  {
   "cell_type": "code",
   "execution_count": null,
   "id": "904aff2d",
   "metadata": {},
   "outputs": [],
   "source": []
  }
 ],
 "metadata": {
  "kernelspec": {
   "display_name": "Python 3 (ipykernel)",
   "language": "python",
   "name": "python3"
  },
  "language_info": {
   "codemirror_mode": {
    "name": "ipython",
    "version": 3
   },
   "file_extension": ".py",
   "mimetype": "text/x-python",
   "name": "python",
   "nbconvert_exporter": "python",
   "pygments_lexer": "ipython3",
   "version": "3.9.13"
  }
 },
 "nbformat": 4,
 "nbformat_minor": 5
}
